{
 "cells": [
  {
   "cell_type": "code",
   "execution_count": null,
   "metadata": {},
   "outputs": [],
   "source": [
    "# Задание 2\n",
    "\n",
    "import time\n",
    "from selenium import webdriver\n",
    "\n",
    "driver = webdriver.Chrome('C:/Users/Asus/Desktop/chromedriver')\n",
    "driver.get('http://www.onlyoffice.com/ru/about.aspx/');\n",
    "div_Page = driver.find_element_by_class_name('dev_info_function')\n",
    "def csv_read(data):\n",
    "    with open(\"data.csv\", 'a') as file:\n",
    "        writer = csv.writer(file)\n",
    "        writer.writerow((data[''], data['link']))\n",
    "menu = driver.find_element_by_xpath('xpath=//article[@id='target']/div/div/div[6]/div/div/div/div[30]/div/div[2]/div')\n",
    "for k in menu.find_elements_by_xpath('./li'):\n",
    "driver.quit()"
   ]
  },
  {
   "cell_type": "code",
   "execution_count": null,
   "metadata": {},
   "outputs": [],
   "source": []
  }
 ],
 "metadata": {
  "kernelspec": {
   "display_name": "Python 3",
   "language": "python",
   "name": "python3"
  },
  "language_info": {
   "codemirror_mode": {
    "name": "ipython",
    "version": 3
   },
   "file_extension": ".py",
   "mimetype": "text/x-python",
   "name": "python",
   "nbconvert_exporter": "python",
   "pygments_lexer": "ipython3",
   "version": "3.7.4"
  }
 },
 "nbformat": 4,
 "nbformat_minor": 2
}
